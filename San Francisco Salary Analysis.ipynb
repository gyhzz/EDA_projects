{
 "cells": [
  {
   "cell_type": "markdown",
   "metadata": {},
   "source": [
    "# Exploratory Data Analysis on San Francisco Salary Data\n",
    "\n",
    "### Description\n",
    "\n",
    "This project is an attempt at a general exploration of the San Francisco Occupation Salary data set provided to look for possible trends and abnormalities. This exploration might give an idea of different salary levels for different occupations in San Francisco, which ultimately suggests the city's development priorities.\n",
    "\n",
    "### Assumptions and Modifications\n",
    "\n",
    "Due to the inconsistencies in values, especially in job title descriptions, a few assumptions and modifications had to be made to the dataset prior to the analysis:\n",
    "\n",
    "1. All rows with no job title provided had to be removed from the dataset\n",
    "\n",
    "2. Due to the inconsistencies in job title naming, a set of generic occupations had to be listed, namely:\n",
    "Mechanic, Engineer, Nurse, Police, Sheriff, Technician, Attorney, Physician, Medic, Anesthetist, Fire\n",
    "\n",
    "- A script searched the JobTitle column to look for values containing a substring like one of the listed\n",
    "occupations, and replaces its value with the above\n",
    "- Some records may have been discarded if they did not contain a generic occupation substring listed above\n",
    "and those records were not considered in the analysis\n",
    "- Also, salaries within the same occupation vary widely, mostly by seniority, so by averaging the salaries\n",
    "by the entire occupation truncates the salary data significantly\n",
    "- It can still give a rough idea, though, of how much money is spent in each sector\n",
    "\n",
    "Further Work\n",
    "\n",
    "- A better approach to classify jobs might be to use a classification machine learning model\n",
    "such as Sci-kit learn's KNeighborsClassifier model and a complete occupations dataset\n",
    "- This model can also be used to classify gender by names using a male/female name dataset to\n",
    "identify genders to a reasonable level of accuracy\n",
    "\n",
    "### Methods\n",
    "\n",
    "- Data Cleaning and Manipulation\n",
    "- Exploratory Data Analysis\n",
    "- SQL Querying for grouping and data aggregation\n",
    "\n",
    "### Tools\n",
    "\n",
    "Numpy and Pandas Library:\n",
    "- Data Cleaning and Manipulation\n",
    "- Exploratory Data Analysis\n",
    "\n",
    "Matplotlib.pyplot, Seaborn:\n",
    "- Data visualisation\n",
    "- Exploratory Data Analysis\n",
    "\n",
    "MySQL Connector:\n",
    "- Table creation\n",
    "- Querying"
   ]
  },
  {
   "cell_type": "markdown",
   "metadata": {},
   "source": [
    "-------------------------------------------------------------------------"
   ]
  },
  {
   "cell_type": "markdown",
   "metadata": {},
   "source": [
    "### 1. Set Up"
   ]
  },
  {
   "cell_type": "markdown",
   "metadata": {},
   "source": [
    "##### Import Libraries"
   ]
  },
  {
   "cell_type": "code",
   "execution_count": 67,
   "metadata": {},
   "outputs": [],
   "source": [
    "import pandas as pd\n",
    "import mysql.connector\n",
    "import matplotlib.pyplot as plt\n",
    "import seaborn as sns\n",
    "import numpy as np"
   ]
  },
  {
   "cell_type": "markdown",
   "metadata": {},
   "source": [
    "##### Connect to MySQL Database"
   ]
  },
  {
   "cell_type": "code",
   "execution_count": 68,
   "metadata": {},
   "outputs": [],
   "source": [
    "connection = mysql.connector.connect(\n",
    "    host='localhost',\n",
    "    user='root',    # please use the correct user name\n",
    "    password='10RelationalDatabasesAreVeryUseful!',\n",
    "    database='sf_salaries',\n",
    "    auth_plugin='mysql_native_password'\n",
    ")\n",
    "if connection.is_connected():\n",
    "    db_Info = connection.get_server_info()\n",
    "    # print(\"Connected to MySQL Server version \", db_Info, '\\n')\n",
    "\n",
    "cursor = connection.cursor()"
   ]
  },
  {
   "cell_type": "markdown",
   "metadata": {},
   "source": [
    "##### Declare Functions"
   ]
  },
  {
   "cell_type": "code",
   "execution_count": null,
   "metadata": {},
   "outputs": [],
   "source": [
    "def execute_query(query):\n",
    "    '''\n",
    "    Takes a single SQL query string, executes, and returns SQL output as a list of rows\n",
    "    '''\n",
    "\n",
    "    # Execute query and return all rows of output\n",
    "    cursor.execute(query)\n",
    "    return cursor.fetchall()\n",
    "\n",
    "\n",
    "def convert_to_df(data, headers):\n",
    "    '''\n",
    "    Takes SQL query output's list of rows (data) and a list of column names (headers) as argument\n",
    "    Returns a pandas DataFrame object\n",
    "\n",
    "    Note: The number of columns in data and headers must be equal\n",
    "    '''\n",
    "\n",
    "    # Create and return DataFrame\n",
    "    df = pd.DataFrame(data, columns=headers)\n",
    "    return df\n",
    "\n",
    "\n",
    "def addlabels(x, y):\n",
    "    '''\n",
    "    Adds y labels to plot\n",
    "    '''\n",
    "\n",
    "    for i in range(len(x)):\n",
    "        plt.text(i, y[i], y[i])"
   ]
  },
  {
   "cell_type": "markdown",
   "metadata": {},
   "source": [
    "##### Description of Dataset"
   ]
  },
  {
   "cell_type": "code",
   "execution_count": 69,
   "metadata": {},
   "outputs": [
    {
     "name": "stderr",
     "output_type": "stream",
     "text": [
      "C:\\Users\\User\\AppData\\Local\\Temp\\ipykernel_13248\\3740989038.py:1: DtypeWarning: Columns (3,4,5,6,12) have mixed types. Specify dtype option on import or set low_memory=False.\n",
      "  df = pd.read_csv('Salaries.csv')\n"
     ]
    },
    {
     "name": "stdout",
     "output_type": "stream",
     "text": [
      "<class 'pandas.core.frame.DataFrame'>\n",
      "RangeIndex: 148654 entries, 0 to 148653\n",
      "Data columns (total 13 columns):\n",
      " #   Column            Non-Null Count   Dtype  \n",
      "---  ------            --------------   -----  \n",
      " 0   Id                148654 non-null  int64  \n",
      " 1   EmployeeName      148654 non-null  object \n",
      " 2   JobTitle          148654 non-null  object \n",
      " 3   BasePay           148049 non-null  object \n",
      " 4   OvertimePay       148654 non-null  object \n",
      " 5   OtherPay          148654 non-null  object \n",
      " 6   Benefits          112495 non-null  object \n",
      " 7   TotalPay          148654 non-null  float64\n",
      " 8   TotalPayBenefits  148654 non-null  float64\n",
      " 9   Year              148654 non-null  int64  \n",
      " 10  Notes             0 non-null       float64\n",
      " 11  Agency            148654 non-null  object \n",
      " 12  Status            38119 non-null   object \n",
      "dtypes: float64(3), int64(2), object(8)\n",
      "memory usage: 14.7+ MB\n"
     ]
    },
    {
     "data": {
      "text/html": [
       "<div>\n",
       "<style scoped>\n",
       "    .dataframe tbody tr th:only-of-type {\n",
       "        vertical-align: middle;\n",
       "    }\n",
       "\n",
       "    .dataframe tbody tr th {\n",
       "        vertical-align: top;\n",
       "    }\n",
       "\n",
       "    .dataframe thead th {\n",
       "        text-align: right;\n",
       "    }\n",
       "</style>\n",
       "<table border=\"1\" class=\"dataframe\">\n",
       "  <thead>\n",
       "    <tr style=\"text-align: right;\">\n",
       "      <th></th>\n",
       "      <th>Id</th>\n",
       "      <th>EmployeeName</th>\n",
       "      <th>JobTitle</th>\n",
       "      <th>BasePay</th>\n",
       "      <th>OvertimePay</th>\n",
       "      <th>OtherPay</th>\n",
       "      <th>Benefits</th>\n",
       "      <th>TotalPay</th>\n",
       "      <th>TotalPayBenefits</th>\n",
       "      <th>Year</th>\n",
       "      <th>Notes</th>\n",
       "      <th>Agency</th>\n",
       "      <th>Status</th>\n",
       "    </tr>\n",
       "  </thead>\n",
       "  <tbody>\n",
       "    <tr>\n",
       "      <th>0</th>\n",
       "      <td>1</td>\n",
       "      <td>NATHANIEL FORD</td>\n",
       "      <td>GENERAL MANAGER-METROPOLITAN TRANSIT AUTHORITY</td>\n",
       "      <td>167411.18</td>\n",
       "      <td>0.0</td>\n",
       "      <td>400184.25</td>\n",
       "      <td>NaN</td>\n",
       "      <td>567595.43</td>\n",
       "      <td>567595.43</td>\n",
       "      <td>2011</td>\n",
       "      <td>NaN</td>\n",
       "      <td>San Francisco</td>\n",
       "      <td>NaN</td>\n",
       "    </tr>\n",
       "    <tr>\n",
       "      <th>1</th>\n",
       "      <td>2</td>\n",
       "      <td>GARY JIMENEZ</td>\n",
       "      <td>CAPTAIN III (POLICE DEPARTMENT)</td>\n",
       "      <td>155966.02</td>\n",
       "      <td>245131.88</td>\n",
       "      <td>137811.38</td>\n",
       "      <td>NaN</td>\n",
       "      <td>538909.28</td>\n",
       "      <td>538909.28</td>\n",
       "      <td>2011</td>\n",
       "      <td>NaN</td>\n",
       "      <td>San Francisco</td>\n",
       "      <td>NaN</td>\n",
       "    </tr>\n",
       "    <tr>\n",
       "      <th>2</th>\n",
       "      <td>3</td>\n",
       "      <td>ALBERT PARDINI</td>\n",
       "      <td>CAPTAIN III (POLICE DEPARTMENT)</td>\n",
       "      <td>212739.13</td>\n",
       "      <td>106088.18</td>\n",
       "      <td>16452.6</td>\n",
       "      <td>NaN</td>\n",
       "      <td>335279.91</td>\n",
       "      <td>335279.91</td>\n",
       "      <td>2011</td>\n",
       "      <td>NaN</td>\n",
       "      <td>San Francisco</td>\n",
       "      <td>NaN</td>\n",
       "    </tr>\n",
       "    <tr>\n",
       "      <th>3</th>\n",
       "      <td>4</td>\n",
       "      <td>CHRISTOPHER CHONG</td>\n",
       "      <td>WIRE ROPE CABLE MAINTENANCE MECHANIC</td>\n",
       "      <td>77916.0</td>\n",
       "      <td>56120.71</td>\n",
       "      <td>198306.9</td>\n",
       "      <td>NaN</td>\n",
       "      <td>332343.61</td>\n",
       "      <td>332343.61</td>\n",
       "      <td>2011</td>\n",
       "      <td>NaN</td>\n",
       "      <td>San Francisco</td>\n",
       "      <td>NaN</td>\n",
       "    </tr>\n",
       "    <tr>\n",
       "      <th>4</th>\n",
       "      <td>5</td>\n",
       "      <td>PATRICK GARDNER</td>\n",
       "      <td>DEPUTY CHIEF OF DEPARTMENT,(FIRE DEPARTMENT)</td>\n",
       "      <td>134401.6</td>\n",
       "      <td>9737.0</td>\n",
       "      <td>182234.59</td>\n",
       "      <td>NaN</td>\n",
       "      <td>326373.19</td>\n",
       "      <td>326373.19</td>\n",
       "      <td>2011</td>\n",
       "      <td>NaN</td>\n",
       "      <td>San Francisco</td>\n",
       "      <td>NaN</td>\n",
       "    </tr>\n",
       "  </tbody>\n",
       "</table>\n",
       "</div>"
      ],
      "text/plain": [
       "   Id       EmployeeName                                        JobTitle  \\\n",
       "0   1     NATHANIEL FORD  GENERAL MANAGER-METROPOLITAN TRANSIT AUTHORITY   \n",
       "1   2       GARY JIMENEZ                 CAPTAIN III (POLICE DEPARTMENT)   \n",
       "2   3     ALBERT PARDINI                 CAPTAIN III (POLICE DEPARTMENT)   \n",
       "3   4  CHRISTOPHER CHONG            WIRE ROPE CABLE MAINTENANCE MECHANIC   \n",
       "4   5    PATRICK GARDNER    DEPUTY CHIEF OF DEPARTMENT,(FIRE DEPARTMENT)   \n",
       "\n",
       "     BasePay OvertimePay   OtherPay Benefits   TotalPay  TotalPayBenefits  \\\n",
       "0  167411.18         0.0  400184.25      NaN  567595.43         567595.43   \n",
       "1  155966.02   245131.88  137811.38      NaN  538909.28         538909.28   \n",
       "2  212739.13   106088.18    16452.6      NaN  335279.91         335279.91   \n",
       "3    77916.0    56120.71   198306.9      NaN  332343.61         332343.61   \n",
       "4   134401.6      9737.0  182234.59      NaN  326373.19         326373.19   \n",
       "\n",
       "   Year  Notes         Agency Status  \n",
       "0  2011    NaN  San Francisco    NaN  \n",
       "1  2011    NaN  San Francisco    NaN  \n",
       "2  2011    NaN  San Francisco    NaN  \n",
       "3  2011    NaN  San Francisco    NaN  \n",
       "4  2011    NaN  San Francisco    NaN  "
      ]
     },
     "execution_count": 69,
     "metadata": {},
     "output_type": "execute_result"
    }
   ],
   "source": [
    "df = pd.read_csv('Salaries.csv')\n",
    "\n",
    "df.info()\n",
    "df.head()"
   ]
  },
  {
   "cell_type": "markdown",
   "metadata": {},
   "source": [
    "### 2. Data Cleaning"
   ]
  },
  {
   "cell_type": "markdown",
   "metadata": {},
   "source": [
    "##### Look for missing values"
   ]
  },
  {
   "cell_type": "code",
   "execution_count": 70,
   "metadata": {},
   "outputs": [
    {
     "data": {
      "text/plain": [
       "Id                       0\n",
       "EmployeeName             0\n",
       "JobTitle                 0\n",
       "BasePay                605\n",
       "OvertimePay              0\n",
       "OtherPay                 0\n",
       "Benefits             36159\n",
       "TotalPay                 0\n",
       "TotalPayBenefits         0\n",
       "Year                     0\n",
       "Notes               148654\n",
       "Agency                   0\n",
       "Status              110535\n",
       "dtype: int64"
      ]
     },
     "execution_count": 70,
     "metadata": {},
     "output_type": "execute_result"
    }
   ],
   "source": [
    "df.isna().sum()"
   ]
  },
  {
   "cell_type": "markdown",
   "metadata": {},
   "source": [
    "##### Drop redundant columns"
   ]
  },
  {
   "cell_type": "code",
   "execution_count": 71,
   "metadata": {},
   "outputs": [],
   "source": [
    "df = df.drop(columns=['Id', 'Notes', 'Status'])"
   ]
  },
  {
   "cell_type": "code",
   "execution_count": 72,
   "metadata": {},
   "outputs": [
    {
     "data": {
      "text/plain": [
       "EmployeeName            0\n",
       "JobTitle                0\n",
       "BasePay               605\n",
       "OvertimePay             0\n",
       "OtherPay                0\n",
       "Benefits            36159\n",
       "TotalPay                0\n",
       "TotalPayBenefits        0\n",
       "Year                    0\n",
       "Agency                  0\n",
       "dtype: int64"
      ]
     },
     "execution_count": 72,
     "metadata": {},
     "output_type": "execute_result"
    }
   ],
   "source": [
    "df.isna().sum()"
   ]
  },
  {
   "cell_type": "markdown",
   "metadata": {},
   "source": [
    "##### Fill missing values with zeroes"
   ]
  },
  {
   "cell_type": "code",
   "execution_count": 73,
   "metadata": {},
   "outputs": [],
   "source": [
    "df = df.fillna(0)"
   ]
  },
  {
   "cell_type": "code",
   "execution_count": 74,
   "metadata": {},
   "outputs": [
    {
     "data": {
      "text/plain": [
       "EmployeeName        0\n",
       "JobTitle            0\n",
       "BasePay             0\n",
       "OvertimePay         0\n",
       "OtherPay            0\n",
       "Benefits            0\n",
       "TotalPay            0\n",
       "TotalPayBenefits    0\n",
       "Year                0\n",
       "Agency              0\n",
       "dtype: int64"
      ]
     },
     "execution_count": 74,
     "metadata": {},
     "output_type": "execute_result"
    }
   ],
   "source": [
    "df.isna().sum()"
   ]
  },
  {
   "cell_type": "markdown",
   "metadata": {},
   "source": [
    "##### Check for values that are not provided"
   ]
  },
  {
   "cell_type": "code",
   "execution_count": 75,
   "metadata": {},
   "outputs": [
    {
     "name": "stderr",
     "output_type": "stream",
     "text": [
      "C:\\Users\\User\\AppData\\Local\\Temp\\ipykernel_13248\\720515528.py:1: FutureWarning: In a future version of pandas all arguments of DataFrame.any and Series.any will be keyword-only.\n",
      "  df[df.eq(\"Not Provided\").any(1)]\n"
     ]
    },
    {
     "data": {
      "text/html": [
       "<div>\n",
       "<style scoped>\n",
       "    .dataframe tbody tr th:only-of-type {\n",
       "        vertical-align: middle;\n",
       "    }\n",
       "\n",
       "    .dataframe tbody tr th {\n",
       "        vertical-align: top;\n",
       "    }\n",
       "\n",
       "    .dataframe thead th {\n",
       "        text-align: right;\n",
       "    }\n",
       "</style>\n",
       "<table border=\"1\" class=\"dataframe\">\n",
       "  <thead>\n",
       "    <tr style=\"text-align: right;\">\n",
       "      <th></th>\n",
       "      <th>EmployeeName</th>\n",
       "      <th>JobTitle</th>\n",
       "      <th>BasePay</th>\n",
       "      <th>OvertimePay</th>\n",
       "      <th>OtherPay</th>\n",
       "      <th>Benefits</th>\n",
       "      <th>TotalPay</th>\n",
       "      <th>TotalPayBenefits</th>\n",
       "      <th>Year</th>\n",
       "      <th>Agency</th>\n",
       "    </tr>\n",
       "  </thead>\n",
       "  <tbody>\n",
       "    <tr>\n",
       "      <th>13797</th>\n",
       "      <td>Not Provided</td>\n",
       "      <td>PUBLIC SAFETY COMMUNICATIONS DISPATCHER</td>\n",
       "      <td>57963.39</td>\n",
       "      <td>19683.91</td>\n",
       "      <td>4373.86</td>\n",
       "      <td>0</td>\n",
       "      <td>82021.16</td>\n",
       "      <td>82021.16</td>\n",
       "      <td>2011</td>\n",
       "      <td>San Francisco</td>\n",
       "    </tr>\n",
       "    <tr>\n",
       "      <th>44151</th>\n",
       "      <td>Not Provided</td>\n",
       "      <td>Public SafetyComm Disp</td>\n",
       "      <td>82196.52</td>\n",
       "      <td>25934.2</td>\n",
       "      <td>3752.49</td>\n",
       "      <td>38024.3</td>\n",
       "      <td>111883.21</td>\n",
       "      <td>149907.51</td>\n",
       "      <td>2012</td>\n",
       "      <td>San Francisco</td>\n",
       "    </tr>\n",
       "    <tr>\n",
       "      <th>148646</th>\n",
       "      <td>Not provided</td>\n",
       "      <td>Not provided</td>\n",
       "      <td>Not Provided</td>\n",
       "      <td>Not Provided</td>\n",
       "      <td>Not Provided</td>\n",
       "      <td>Not Provided</td>\n",
       "      <td>0.00</td>\n",
       "      <td>0.00</td>\n",
       "      <td>2014</td>\n",
       "      <td>San Francisco</td>\n",
       "    </tr>\n",
       "    <tr>\n",
       "      <th>148650</th>\n",
       "      <td>Not provided</td>\n",
       "      <td>Not provided</td>\n",
       "      <td>Not Provided</td>\n",
       "      <td>Not Provided</td>\n",
       "      <td>Not Provided</td>\n",
       "      <td>Not Provided</td>\n",
       "      <td>0.00</td>\n",
       "      <td>0.00</td>\n",
       "      <td>2014</td>\n",
       "      <td>San Francisco</td>\n",
       "    </tr>\n",
       "    <tr>\n",
       "      <th>148651</th>\n",
       "      <td>Not provided</td>\n",
       "      <td>Not provided</td>\n",
       "      <td>Not Provided</td>\n",
       "      <td>Not Provided</td>\n",
       "      <td>Not Provided</td>\n",
       "      <td>Not Provided</td>\n",
       "      <td>0.00</td>\n",
       "      <td>0.00</td>\n",
       "      <td>2014</td>\n",
       "      <td>San Francisco</td>\n",
       "    </tr>\n",
       "    <tr>\n",
       "      <th>148652</th>\n",
       "      <td>Not provided</td>\n",
       "      <td>Not provided</td>\n",
       "      <td>Not Provided</td>\n",
       "      <td>Not Provided</td>\n",
       "      <td>Not Provided</td>\n",
       "      <td>Not Provided</td>\n",
       "      <td>0.00</td>\n",
       "      <td>0.00</td>\n",
       "      <td>2014</td>\n",
       "      <td>San Francisco</td>\n",
       "    </tr>\n",
       "  </tbody>\n",
       "</table>\n",
       "</div>"
      ],
      "text/plain": [
       "        EmployeeName                                 JobTitle       BasePay  \\\n",
       "13797   Not Provided  PUBLIC SAFETY COMMUNICATIONS DISPATCHER      57963.39   \n",
       "44151   Not Provided                   Public SafetyComm Disp      82196.52   \n",
       "148646  Not provided                             Not provided  Not Provided   \n",
       "148650  Not provided                             Not provided  Not Provided   \n",
       "148651  Not provided                             Not provided  Not Provided   \n",
       "148652  Not provided                             Not provided  Not Provided   \n",
       "\n",
       "         OvertimePay      OtherPay      Benefits   TotalPay  TotalPayBenefits  \\\n",
       "13797       19683.91       4373.86             0   82021.16          82021.16   \n",
       "44151        25934.2       3752.49       38024.3  111883.21         149907.51   \n",
       "148646  Not Provided  Not Provided  Not Provided       0.00              0.00   \n",
       "148650  Not Provided  Not Provided  Not Provided       0.00              0.00   \n",
       "148651  Not Provided  Not Provided  Not Provided       0.00              0.00   \n",
       "148652  Not Provided  Not Provided  Not Provided       0.00              0.00   \n",
       "\n",
       "        Year         Agency  \n",
       "13797   2011  San Francisco  \n",
       "44151   2012  San Francisco  \n",
       "148646  2014  San Francisco  \n",
       "148650  2014  San Francisco  \n",
       "148651  2014  San Francisco  \n",
       "148652  2014  San Francisco  "
      ]
     },
     "execution_count": 75,
     "metadata": {},
     "output_type": "execute_result"
    }
   ],
   "source": [
    "df[df.eq(\"Not Provided\").any(1)]"
   ]
  },
  {
   "cell_type": "markdown",
   "metadata": {},
   "source": [
    "##### Remove rows where job titles are not provided"
   ]
  },
  {
   "cell_type": "code",
   "execution_count": 76,
   "metadata": {},
   "outputs": [],
   "source": [
    "df = df[df[\"JobTitle\"].str.contains(\"Not Provided|Not provided\") == False]"
   ]
  },
  {
   "cell_type": "code",
   "execution_count": 77,
   "metadata": {},
   "outputs": [
    {
     "name": "stderr",
     "output_type": "stream",
     "text": [
      "C:\\Users\\User\\AppData\\Local\\Temp\\ipykernel_13248\\720515528.py:1: FutureWarning: In a future version of pandas all arguments of DataFrame.any and Series.any will be keyword-only.\n",
      "  df[df.eq(\"Not Provided\").any(1)]\n"
     ]
    },
    {
     "data": {
      "text/html": [
       "<div>\n",
       "<style scoped>\n",
       "    .dataframe tbody tr th:only-of-type {\n",
       "        vertical-align: middle;\n",
       "    }\n",
       "\n",
       "    .dataframe tbody tr th {\n",
       "        vertical-align: top;\n",
       "    }\n",
       "\n",
       "    .dataframe thead th {\n",
       "        text-align: right;\n",
       "    }\n",
       "</style>\n",
       "<table border=\"1\" class=\"dataframe\">\n",
       "  <thead>\n",
       "    <tr style=\"text-align: right;\">\n",
       "      <th></th>\n",
       "      <th>EmployeeName</th>\n",
       "      <th>JobTitle</th>\n",
       "      <th>BasePay</th>\n",
       "      <th>OvertimePay</th>\n",
       "      <th>OtherPay</th>\n",
       "      <th>Benefits</th>\n",
       "      <th>TotalPay</th>\n",
       "      <th>TotalPayBenefits</th>\n",
       "      <th>Year</th>\n",
       "      <th>Agency</th>\n",
       "    </tr>\n",
       "  </thead>\n",
       "  <tbody>\n",
       "    <tr>\n",
       "      <th>13797</th>\n",
       "      <td>Not Provided</td>\n",
       "      <td>PUBLIC SAFETY COMMUNICATIONS DISPATCHER</td>\n",
       "      <td>57963.39</td>\n",
       "      <td>19683.91</td>\n",
       "      <td>4373.86</td>\n",
       "      <td>0</td>\n",
       "      <td>82021.16</td>\n",
       "      <td>82021.16</td>\n",
       "      <td>2011</td>\n",
       "      <td>San Francisco</td>\n",
       "    </tr>\n",
       "    <tr>\n",
       "      <th>44151</th>\n",
       "      <td>Not Provided</td>\n",
       "      <td>Public SafetyComm Disp</td>\n",
       "      <td>82196.52</td>\n",
       "      <td>25934.2</td>\n",
       "      <td>3752.49</td>\n",
       "      <td>38024.3</td>\n",
       "      <td>111883.21</td>\n",
       "      <td>149907.51</td>\n",
       "      <td>2012</td>\n",
       "      <td>San Francisco</td>\n",
       "    </tr>\n",
       "  </tbody>\n",
       "</table>\n",
       "</div>"
      ],
      "text/plain": [
       "       EmployeeName                                 JobTitle   BasePay  \\\n",
       "13797  Not Provided  PUBLIC SAFETY COMMUNICATIONS DISPATCHER  57963.39   \n",
       "44151  Not Provided                   Public SafetyComm Disp  82196.52   \n",
       "\n",
       "      OvertimePay OtherPay Benefits   TotalPay  TotalPayBenefits  Year  \\\n",
       "13797    19683.91  4373.86        0   82021.16          82021.16  2011   \n",
       "44151     25934.2  3752.49  38024.3  111883.21         149907.51  2012   \n",
       "\n",
       "              Agency  \n",
       "13797  San Francisco  \n",
       "44151  San Francisco  "
      ]
     },
     "execution_count": 77,
     "metadata": {},
     "output_type": "execute_result"
    }
   ],
   "source": [
    "df[df.eq(\"Not Provided\").any(1)]"
   ]
  },
  {
   "cell_type": "markdown",
   "metadata": {},
   "source": [
    "##### Create clean copy of cleaned dataset"
   ]
  },
  {
   "cell_type": "code",
   "execution_count": 79,
   "metadata": {},
   "outputs": [],
   "source": [
    "df_clean = df.copy()"
   ]
  },
  {
   "cell_type": "markdown",
   "metadata": {},
   "source": [
    "##### Create a list of generic occupations that is able to describe the dataset to a reasonable degree"
   ]
  },
  {
   "cell_type": "code",
   "execution_count": 81,
   "metadata": {},
   "outputs": [],
   "source": [
    "occupationList = ['Mechanic', 'Engineer', 'Nurse', \n",
    "                    'Police', 'Sheriff', 'Technician', \n",
    "                    'Attorney', 'Physician', 'Medic',\n",
    "                    'Anesthetist', 'Fire']"
   ]
  },
  {
   "cell_type": "markdown",
   "metadata": {},
   "source": [
    "##### Testing a dataframe mask to only select rows of a specific occupation"
   ]
  },
  {
   "cell_type": "code",
   "execution_count": 82,
   "metadata": {},
   "outputs": [
    {
     "data": {
      "text/html": [
       "<div>\n",
       "<style scoped>\n",
       "    .dataframe tbody tr th:only-of-type {\n",
       "        vertical-align: middle;\n",
       "    }\n",
       "\n",
       "    .dataframe tbody tr th {\n",
       "        vertical-align: top;\n",
       "    }\n",
       "\n",
       "    .dataframe thead th {\n",
       "        text-align: right;\n",
       "    }\n",
       "</style>\n",
       "<table border=\"1\" class=\"dataframe\">\n",
       "  <thead>\n",
       "    <tr style=\"text-align: right;\">\n",
       "      <th></th>\n",
       "      <th>EmployeeName</th>\n",
       "      <th>JobTitle</th>\n",
       "      <th>BasePay</th>\n",
       "      <th>OvertimePay</th>\n",
       "      <th>OtherPay</th>\n",
       "      <th>Benefits</th>\n",
       "      <th>TotalPay</th>\n",
       "      <th>TotalPayBenefits</th>\n",
       "      <th>Year</th>\n",
       "      <th>Agency</th>\n",
       "    </tr>\n",
       "  </thead>\n",
       "  <tbody>\n",
       "    <tr>\n",
       "      <th>139247</th>\n",
       "      <td>Melissa E Chalot</td>\n",
       "      <td>Nurse Practitioner</td>\n",
       "      <td>40875.65</td>\n",
       "      <td>0.00</td>\n",
       "      <td>1555.50</td>\n",
       "      <td>424.34</td>\n",
       "      <td>42431.15</td>\n",
       "      <td>42855.49</td>\n",
       "      <td>2014</td>\n",
       "      <td>San Francisco</td>\n",
       "    </tr>\n",
       "    <tr>\n",
       "      <th>52071</th>\n",
       "      <td>Kenneth Phan</td>\n",
       "      <td>Registered Nurse</td>\n",
       "      <td>70693.2</td>\n",
       "      <td>384.4</td>\n",
       "      <td>8813.05</td>\n",
       "      <td>30069.87</td>\n",
       "      <td>79890.65</td>\n",
       "      <td>109960.52</td>\n",
       "      <td>2012</td>\n",
       "      <td>San Francisco</td>\n",
       "    </tr>\n",
       "    <tr>\n",
       "      <th>144819</th>\n",
       "      <td>Cecille Loren L Aguja</td>\n",
       "      <td>Special Nurse</td>\n",
       "      <td>6034.39</td>\n",
       "      <td>248.25</td>\n",
       "      <td>182.34</td>\n",
       "      <td>1436.71</td>\n",
       "      <td>6464.98</td>\n",
       "      <td>7901.69</td>\n",
       "      <td>2014</td>\n",
       "      <td>San Francisco</td>\n",
       "    </tr>\n",
       "  </tbody>\n",
       "</table>\n",
       "</div>"
      ],
      "text/plain": [
       "                 EmployeeName            JobTitle   BasePay OvertimePay  \\\n",
       "139247       Melissa E Chalot  Nurse Practitioner  40875.65        0.00   \n",
       "52071            Kenneth Phan    Registered Nurse   70693.2       384.4   \n",
       "144819  Cecille Loren L Aguja       Special Nurse   6034.39      248.25   \n",
       "\n",
       "       OtherPay  Benefits  TotalPay  TotalPayBenefits  Year         Agency  \n",
       "139247  1555.50    424.34  42431.15          42855.49  2014  San Francisco  \n",
       "52071   8813.05  30069.87  79890.65         109960.52  2012  San Francisco  \n",
       "144819   182.34   1436.71   6464.98           7901.69  2014  San Francisco  "
      ]
     },
     "execution_count": 82,
     "metadata": {},
     "output_type": "execute_result"
    }
   ],
   "source": [
    "mask = df_clean['JobTitle'].str.contains('Nurse', case=False)\n",
    "\n",
    "df_clean[mask].sample(3)"
   ]
  },
  {
   "cell_type": "code",
   "execution_count": 83,
   "metadata": {},
   "outputs": [
    {
     "data": {
      "text/html": [
       "<div>\n",
       "<style scoped>\n",
       "    .dataframe tbody tr th:only-of-type {\n",
       "        vertical-align: middle;\n",
       "    }\n",
       "\n",
       "    .dataframe tbody tr th {\n",
       "        vertical-align: top;\n",
       "    }\n",
       "\n",
       "    .dataframe thead th {\n",
       "        text-align: right;\n",
       "    }\n",
       "</style>\n",
       "<table border=\"1\" class=\"dataframe\">\n",
       "  <thead>\n",
       "    <tr style=\"text-align: right;\">\n",
       "      <th></th>\n",
       "      <th>EmployeeName</th>\n",
       "      <th>JobTitle</th>\n",
       "      <th>BasePay</th>\n",
       "      <th>OvertimePay</th>\n",
       "      <th>OtherPay</th>\n",
       "      <th>Benefits</th>\n",
       "      <th>TotalPay</th>\n",
       "      <th>TotalPayBenefits</th>\n",
       "      <th>Year</th>\n",
       "      <th>Agency</th>\n",
       "    </tr>\n",
       "  </thead>\n",
       "  <tbody>\n",
       "    <tr>\n",
       "      <th>44722</th>\n",
       "      <td>Kimberly McNease</td>\n",
       "      <td>Nurse</td>\n",
       "      <td>98506.3</td>\n",
       "      <td>0.0</td>\n",
       "      <td>4054.09</td>\n",
       "      <td>44005.34</td>\n",
       "      <td>102560.39</td>\n",
       "      <td>146565.73</td>\n",
       "      <td>2012</td>\n",
       "      <td>San Francisco</td>\n",
       "    </tr>\n",
       "    <tr>\n",
       "      <th>78103</th>\n",
       "      <td>Dave N Sickles</td>\n",
       "      <td>Nurse</td>\n",
       "      <td>132288.01</td>\n",
       "      <td>0.0</td>\n",
       "      <td>250.0</td>\n",
       "      <td>42591.61</td>\n",
       "      <td>132538.01</td>\n",
       "      <td>175129.62</td>\n",
       "      <td>2013</td>\n",
       "      <td>San Francisco</td>\n",
       "    </tr>\n",
       "    <tr>\n",
       "      <th>79855</th>\n",
       "      <td>Wanxia H Chen</td>\n",
       "      <td>Nurse</td>\n",
       "      <td>116017.41</td>\n",
       "      <td>5596.3</td>\n",
       "      <td>4737.92</td>\n",
       "      <td>35023.94</td>\n",
       "      <td>126351.63</td>\n",
       "      <td>161375.57</td>\n",
       "      <td>2013</td>\n",
       "      <td>San Francisco</td>\n",
       "    </tr>\n",
       "  </tbody>\n",
       "</table>\n",
       "</div>"
      ],
      "text/plain": [
       "           EmployeeName JobTitle    BasePay OvertimePay OtherPay  Benefits  \\\n",
       "44722  Kimberly McNease    Nurse    98506.3         0.0  4054.09  44005.34   \n",
       "78103    Dave N Sickles    Nurse  132288.01         0.0    250.0  42591.61   \n",
       "79855     Wanxia H Chen    Nurse  116017.41      5596.3  4737.92  35023.94   \n",
       "\n",
       "        TotalPay  TotalPayBenefits  Year         Agency  \n",
       "44722  102560.39         146565.73  2012  San Francisco  \n",
       "78103  132538.01         175129.62  2013  San Francisco  \n",
       "79855  126351.63         161375.57  2013  San Francisco  "
      ]
     },
     "execution_count": 83,
     "metadata": {},
     "output_type": "execute_result"
    }
   ],
   "source": [
    "df_clean.loc[mask, 'JobTitle'] = 'Nurse'\n",
    "\n",
    "df_clean[mask].sample(3)"
   ]
  },
  {
   "cell_type": "markdown",
   "metadata": {},
   "source": [
    "##### Look for job titles that contain a substring of one of the generic occupations replace them with the generic occupation"
   ]
  },
  {
   "cell_type": "code",
   "execution_count": 84,
   "metadata": {},
   "outputs": [],
   "source": [
    "fixed_jobs_df = pd.DataFrame()\n",
    "\n",
    "for occupation in occupationList:\n",
    "\n",
    "    mask = df_clean['JobTitle'].str.contains(occupation, case=False)\n",
    "    df_clean.loc[mask, 'JobTitle'] = occupation\n",
    "\n",
    "    df_job = df_clean[df_clean['JobTitle'].str.contains(occupation)]\n",
    "\n",
    "    fixed_jobs_df = pd.concat([df_job, fixed_jobs_df], ignore_index=True, sort=False)\n"
   ]
  },
  {
   "cell_type": "code",
   "execution_count": 85,
   "metadata": {},
   "outputs": [
    {
     "data": {
      "text/html": [
       "<div>\n",
       "<style scoped>\n",
       "    .dataframe tbody tr th:only-of-type {\n",
       "        vertical-align: middle;\n",
       "    }\n",
       "\n",
       "    .dataframe tbody tr th {\n",
       "        vertical-align: top;\n",
       "    }\n",
       "\n",
       "    .dataframe thead th {\n",
       "        text-align: right;\n",
       "    }\n",
       "</style>\n",
       "<table border=\"1\" class=\"dataframe\">\n",
       "  <thead>\n",
       "    <tr style=\"text-align: right;\">\n",
       "      <th></th>\n",
       "      <th>EmployeeName</th>\n",
       "      <th>JobTitle</th>\n",
       "      <th>BasePay</th>\n",
       "      <th>OvertimePay</th>\n",
       "      <th>OtherPay</th>\n",
       "      <th>Benefits</th>\n",
       "      <th>TotalPay</th>\n",
       "      <th>TotalPayBenefits</th>\n",
       "      <th>Year</th>\n",
       "      <th>Agency</th>\n",
       "    </tr>\n",
       "  </thead>\n",
       "  <tbody>\n",
       "    <tr>\n",
       "      <th>0</th>\n",
       "      <td>PATRICK GARDNER</td>\n",
       "      <td>Fire</td>\n",
       "      <td>134401.6</td>\n",
       "      <td>9737.0</td>\n",
       "      <td>182234.59</td>\n",
       "      <td>0</td>\n",
       "      <td>326373.19</td>\n",
       "      <td>326373.19</td>\n",
       "      <td>2011</td>\n",
       "      <td>San Francisco</td>\n",
       "    </tr>\n",
       "    <tr>\n",
       "      <th>1</th>\n",
       "      <td>ALSON LEE</td>\n",
       "      <td>Fire</td>\n",
       "      <td>92492.01</td>\n",
       "      <td>89062.9</td>\n",
       "      <td>134426.14</td>\n",
       "      <td>0</td>\n",
       "      <td>315981.05</td>\n",
       "      <td>315981.05</td>\n",
       "      <td>2011</td>\n",
       "      <td>San Francisco</td>\n",
       "    </tr>\n",
       "    <tr>\n",
       "      <th>2</th>\n",
       "      <td>MICHAEL MORRIS</td>\n",
       "      <td>Fire</td>\n",
       "      <td>176932.64</td>\n",
       "      <td>86362.68</td>\n",
       "      <td>40132.23</td>\n",
       "      <td>0</td>\n",
       "      <td>303427.55</td>\n",
       "      <td>303427.55</td>\n",
       "      <td>2011</td>\n",
       "      <td>San Francisco</td>\n",
       "    </tr>\n",
       "    <tr>\n",
       "      <th>3</th>\n",
       "      <td>JOANNE HAYES-WHITE</td>\n",
       "      <td>Fire</td>\n",
       "      <td>285262.0</td>\n",
       "      <td>0.0</td>\n",
       "      <td>17115.73</td>\n",
       "      <td>0</td>\n",
       "      <td>302377.73</td>\n",
       "      <td>302377.73</td>\n",
       "      <td>2011</td>\n",
       "      <td>San Francisco</td>\n",
       "    </tr>\n",
       "    <tr>\n",
       "      <th>4</th>\n",
       "      <td>ARTHUR KENNEY</td>\n",
       "      <td>Fire</td>\n",
       "      <td>194999.39</td>\n",
       "      <td>71344.88</td>\n",
       "      <td>33149.9</td>\n",
       "      <td>0</td>\n",
       "      <td>299494.17</td>\n",
       "      <td>299494.17</td>\n",
       "      <td>2011</td>\n",
       "      <td>San Francisco</td>\n",
       "    </tr>\n",
       "    <tr>\n",
       "      <th>...</th>\n",
       "      <td>...</td>\n",
       "      <td>...</td>\n",
       "      <td>...</td>\n",
       "      <td>...</td>\n",
       "      <td>...</td>\n",
       "      <td>...</td>\n",
       "      <td>...</td>\n",
       "      <td>...</td>\n",
       "      <td>...</td>\n",
       "      <td>...</td>\n",
       "    </tr>\n",
       "    <tr>\n",
       "      <th>43633</th>\n",
       "      <td>Ray Manamea</td>\n",
       "      <td>Mechanic</td>\n",
       "      <td>0.00</td>\n",
       "      <td>0.00</td>\n",
       "      <td>4573.51</td>\n",
       "      <td>4659.36</td>\n",
       "      <td>4573.51</td>\n",
       "      <td>9232.87</td>\n",
       "      <td>2014</td>\n",
       "      <td>San Francisco</td>\n",
       "    </tr>\n",
       "    <tr>\n",
       "      <th>43634</th>\n",
       "      <td>James Carne</td>\n",
       "      <td>Mechanic</td>\n",
       "      <td>3178.00</td>\n",
       "      <td>0.00</td>\n",
       "      <td>3826.32</td>\n",
       "      <td>1210.75</td>\n",
       "      <td>7004.32</td>\n",
       "      <td>8215.07</td>\n",
       "      <td>2014</td>\n",
       "      <td>San Francisco</td>\n",
       "    </tr>\n",
       "    <tr>\n",
       "      <th>43635</th>\n",
       "      <td>Kyin S Yi</td>\n",
       "      <td>Mechanic</td>\n",
       "      <td>0.00</td>\n",
       "      <td>0.00</td>\n",
       "      <td>2441.46</td>\n",
       "      <td>4793.94</td>\n",
       "      <td>2441.46</td>\n",
       "      <td>7235.40</td>\n",
       "      <td>2014</td>\n",
       "      <td>San Francisco</td>\n",
       "    </tr>\n",
       "    <tr>\n",
       "      <th>43636</th>\n",
       "      <td>Jimmy Ng</td>\n",
       "      <td>Mechanic</td>\n",
       "      <td>5039.40</td>\n",
       "      <td>0.00</td>\n",
       "      <td>0.00</td>\n",
       "      <td>1980.85</td>\n",
       "      <td>5039.40</td>\n",
       "      <td>7020.25</td>\n",
       "      <td>2014</td>\n",
       "      <td>San Francisco</td>\n",
       "    </tr>\n",
       "    <tr>\n",
       "      <th>43637</th>\n",
       "      <td>Mark V Sangervasi</td>\n",
       "      <td>Mechanic</td>\n",
       "      <td>0.00</td>\n",
       "      <td>0.00</td>\n",
       "      <td>2106.00</td>\n",
       "      <td>4793.94</td>\n",
       "      <td>2106.00</td>\n",
       "      <td>6899.94</td>\n",
       "      <td>2014</td>\n",
       "      <td>San Francisco</td>\n",
       "    </tr>\n",
       "  </tbody>\n",
       "</table>\n",
       "<p>43638 rows × 10 columns</p>\n",
       "</div>"
      ],
      "text/plain": [
       "             EmployeeName  JobTitle    BasePay OvertimePay   OtherPay  \\\n",
       "0         PATRICK GARDNER      Fire   134401.6      9737.0  182234.59   \n",
       "1               ALSON LEE      Fire   92492.01     89062.9  134426.14   \n",
       "2          MICHAEL MORRIS      Fire  176932.64    86362.68   40132.23   \n",
       "3      JOANNE HAYES-WHITE      Fire   285262.0         0.0   17115.73   \n",
       "4           ARTHUR KENNEY      Fire  194999.39    71344.88    33149.9   \n",
       "...                   ...       ...        ...         ...        ...   \n",
       "43633         Ray Manamea  Mechanic       0.00        0.00    4573.51   \n",
       "43634         James Carne  Mechanic    3178.00        0.00    3826.32   \n",
       "43635           Kyin S Yi  Mechanic       0.00        0.00    2441.46   \n",
       "43636            Jimmy Ng  Mechanic    5039.40        0.00       0.00   \n",
       "43637   Mark V Sangervasi  Mechanic       0.00        0.00    2106.00   \n",
       "\n",
       "      Benefits   TotalPay  TotalPayBenefits  Year         Agency  \n",
       "0            0  326373.19         326373.19  2011  San Francisco  \n",
       "1            0  315981.05         315981.05  2011  San Francisco  \n",
       "2            0  303427.55         303427.55  2011  San Francisco  \n",
       "3            0  302377.73         302377.73  2011  San Francisco  \n",
       "4            0  299494.17         299494.17  2011  San Francisco  \n",
       "...        ...        ...               ...   ...            ...  \n",
       "43633  4659.36    4573.51           9232.87  2014  San Francisco  \n",
       "43634  1210.75    7004.32           8215.07  2014  San Francisco  \n",
       "43635  4793.94    2441.46           7235.40  2014  San Francisco  \n",
       "43636  1980.85    5039.40           7020.25  2014  San Francisco  \n",
       "43637  4793.94    2106.00           6899.94  2014  San Francisco  \n",
       "\n",
       "[43638 rows x 10 columns]"
      ]
     },
     "execution_count": 85,
     "metadata": {},
     "output_type": "execute_result"
    }
   ],
   "source": [
    "fixed_jobs_df"
   ]
  },
  {
   "cell_type": "markdown",
   "metadata": {},
   "source": [
    "### 3. Exploratory Data Analysis"
   ]
  },
  {
   "cell_type": "markdown",
   "metadata": {},
   "source": [
    "##### Occupation distribution in Sanfrancisco"
   ]
  },
  {
   "cell_type": "code",
   "execution_count": 86,
   "metadata": {},
   "outputs": [
    {
     "data": {
      "image/png": "[encoded data removed]",
      "text/plain": [
       "<Figure size 1000x600 with 1 Axes>"
      ]
     },
     "metadata": {},
     "output_type": "display_data"
    }
   ],
   "source": [
    "labels = fixed_jobs_df[\"JobTitle\"].value_counts().index\n",
    "fracs = fixed_jobs_df[\"JobTitle\"].value_counts()\n",
    "colors = ['#FFB5E8','#B28DFF','#DCD3FF','#AFF8DB', '#BFFCC6', '#FFC9DE', '#FF9CEE', '#C5A3FF', '#A79AFF', '#C4FAF8', '#DBFFD6']\n",
    "\n",
    "fig1, ax1 = plt.subplots()\n",
    "ax1.pie(fracs, labels=labels, autopct='%1.1f%%', colors=colors)\n",
    "centre_circle = plt.Circle((0,0),0.70,fc='white')\n",
    "fig = plt.gcf()\n",
    "fig.gca().add_artist(centre_circle)\n",
    "ax1.axis('equal')  # Equal aspect ratio ensures that pie is drawn as a circle.\n",
    "ax1.set_title(\"Occupation Distribution in San Francisco\")\n",
    "plt.show()"
   ]
  },
  {
   "cell_type": "markdown",
   "metadata": {},
   "source": [
    "##### Observations\n",
    "\n",
    "- High employment in government sectors such as healthcare, law enforcement, and the fire department\n",
    "- Productivity sectors comes after with employments of Engineers, Mechanics, and Technicians"
   ]
  },
  {
   "cell_type": "code",
   "execution_count": 88,
   "metadata": {},
   "outputs": [],
   "source": [
    "cols = ['EmployeeName', 'JobTitle', 'BasePay', 'OvertimePay', 'OtherPay', 'Benefits', 'TotalPay', 'TotalPayBenefits', 'Year', 'Agency']"
   ]
  },
  {
   "cell_type": "markdown",
   "metadata": {},
   "source": [
    "##### Create new table in MySQL with clean dataset for querying"
   ]
  },
  {
   "cell_type": "code",
   "execution_count": 89,
   "metadata": {},
   "outputs": [
    {
     "data": {
      "text/plain": [
       "[]"
      ]
     },
     "execution_count": 89,
     "metadata": {},
     "output_type": "execute_result"
    }
   ],
   "source": [
    "execute_query('DROP TABLE IF EXISTS fixed_jobs_table')"
   ]
  },
  {
   "cell_type": "code",
   "execution_count": 90,
   "metadata": {},
   "outputs": [
    {
     "data": {
      "text/plain": [
       "[]"
      ]
     },
     "execution_count": 90,
     "metadata": {},
     "output_type": "execute_result"
    }
   ],
   "source": [
    "execute_query('CREATE TABLE fixed_jobs_table (EmployeeName text, JobTitle text, BasePay int, OvertimePay int, OtherPay int, Benefits int, TotalPay int, TotalPayBenefits int, Year int, Agency text)')"
   ]
  },
  {
   "cell_type": "markdown",
   "metadata": {},
   "source": [
    "##### Insert clean data frame into new table in MySQL"
   ]
  },
  {
   "cell_type": "code",
   "execution_count": 91,
   "metadata": {},
   "outputs": [],
   "source": [
    "# creating column list for insertion\n",
    "cols = \"`,`\".join(cols)\n",
    "\n",
    "# Insert DataFrame recrds one by one.\n",
    "for i,row in fixed_jobs_df.iterrows():\n",
    "    sql = \"INSERT INTO `fixed_jobs_table` (`\" +cols + \"`) VALUES (\" + \"%s,\"*(len(row)-1) + \"%s)\"\n",
    "    cursor.execute(sql, tuple(row))\n",
    "\n",
    "    # the connection is not autocommitted by default, so we must commit to save our changes\n",
    "    connection.commit()"
   ]
  },
  {
   "cell_type": "markdown",
   "metadata": {},
   "source": [
    "##### Query for average base salary across occupations"
   ]
  },
  {
   "cell_type": "code",
   "execution_count": 92,
   "metadata": {},
   "outputs": [
    {
     "data": {
      "text/html": [
       "<div>\n",
       "<style scoped>\n",
       "    .dataframe tbody tr th:only-of-type {\n",
       "        vertical-align: middle;\n",
       "    }\n",
       "\n",
       "    .dataframe tbody tr th {\n",
       "        vertical-align: top;\n",
       "    }\n",
       "\n",
       "    .dataframe thead th {\n",
       "        text-align: right;\n",
       "    }\n",
       "</style>\n",
       "<table border=\"1\" class=\"dataframe\">\n",
       "  <thead>\n",
       "    <tr style=\"text-align: right;\">\n",
       "      <th></th>\n",
       "      <th>Job Title</th>\n",
       "      <th>Average Base Salary</th>\n",
       "    </tr>\n",
       "  </thead>\n",
       "  <tbody>\n",
       "    <tr>\n",
       "      <th>0</th>\n",
       "      <td>Anesthetist</td>\n",
       "      <td>134985</td>\n",
       "    </tr>\n",
       "    <tr>\n",
       "      <th>1</th>\n",
       "      <td>Attorney</td>\n",
       "      <td>133387</td>\n",
       "    </tr>\n",
       "    <tr>\n",
       "      <th>2</th>\n",
       "      <td>Fire</td>\n",
       "      <td>111676</td>\n",
       "    </tr>\n",
       "    <tr>\n",
       "      <th>3</th>\n",
       "      <td>Police</td>\n",
       "      <td>99778</td>\n",
       "    </tr>\n",
       "    <tr>\n",
       "      <th>4</th>\n",
       "      <td>Physician</td>\n",
       "      <td>95974</td>\n",
       "    </tr>\n",
       "    <tr>\n",
       "      <th>5</th>\n",
       "      <td>Engineer</td>\n",
       "      <td>92712</td>\n",
       "    </tr>\n",
       "    <tr>\n",
       "      <th>6</th>\n",
       "      <td>Sheriff</td>\n",
       "      <td>83436</td>\n",
       "    </tr>\n",
       "    <tr>\n",
       "      <th>7</th>\n",
       "      <td>Medic</td>\n",
       "      <td>76112</td>\n",
       "    </tr>\n",
       "    <tr>\n",
       "      <th>8</th>\n",
       "      <td>Mechanic</td>\n",
       "      <td>71889</td>\n",
       "    </tr>\n",
       "    <tr>\n",
       "      <th>9</th>\n",
       "      <td>Nurse</td>\n",
       "      <td>66547</td>\n",
       "    </tr>\n",
       "    <tr>\n",
       "      <th>10</th>\n",
       "      <td>Technician</td>\n",
       "      <td>55635</td>\n",
       "    </tr>\n",
       "  </tbody>\n",
       "</table>\n",
       "</div>"
      ],
      "text/plain": [
       "      Job Title Average Base Salary\n",
       "0   Anesthetist              134985\n",
       "1      Attorney              133387\n",
       "2          Fire              111676\n",
       "3        Police               99778\n",
       "4     Physician               95974\n",
       "5      Engineer               92712\n",
       "6       Sheriff               83436\n",
       "7         Medic               76112\n",
       "8      Mechanic               71889\n",
       "9         Nurse               66547\n",
       "10   Technician               55635"
      ]
     },
     "execution_count": 92,
     "metadata": {},
     "output_type": "execute_result"
    }
   ],
   "source": [
    "average_base = execute_query('SELECT JobTitle, ROUND(AVG(BasePay), 0) as average_base FROM fixed_jobs_table GROUP BY JobTitle ORDER BY average_base DESC;')\n",
    "\n",
    "average_base_df = convert_to_df(average_base, ['Job Title', 'Average Base Salary'])\n",
    "\n",
    "average_base_df"
   ]
  },
  {
   "cell_type": "code",
   "execution_count": 93,
   "metadata": {},
   "outputs": [],
   "source": [
    "width = 0.2"
   ]
  },
  {
   "cell_type": "code",
   "execution_count": 94,
   "metadata": {},
   "outputs": [
    {
     "data": {
      "image/png": "[encoded data removed]",
      "text/plain": [
       "<Figure size 1000x600 with 1 Axes>"
      ]
     },
     "metadata": {},
     "output_type": "display_data"
    }
   ],
   "source": [
    "# Create bars\n",
    "height = average_base_df['Average Base Salary']\n",
    "bars = average_base_df['Job Title']\n",
    "y_pos = np.arange(len(bars))\n",
    "plt.bar(y_pos, height, color='#85E3FF', width=width)\n",
    "\n",
    "# Create title\n",
    "plt.title(\"Average Base Salary By Occupation\")\n",
    "\n",
    "# Create names on the x-axis\n",
    "plt.xticks(y_pos, bars)\n",
    "\n",
    "# Add labels\n",
    "addlabels(y_pos, height)\n",
    "\n",
    "# Add axis labels\n",
    "plt.xlabel(\"Occupation\")\n",
    "plt.ylabel(\"Average Base Salary\")\n",
    "\n",
    "# Present plot\n",
    "plt.rcParams[\"figure.figsize\"] = (10,6)\n",
    "plt.show()"
   ]
  },
  {
   "cell_type": "markdown",
   "metadata": {},
   "source": [
    "##### Observations:\n",
    "\n",
    "- The occupations drawing the highest base salaries appear to be Anesthetists and Attorneys"
   ]
  },
  {
   "cell_type": "markdown",
   "metadata": {},
   "source": [
    "##### Query for average additional salary across occupations\n",
    "\n",
    "- Consists of overtime pay, others, and benefits"
   ]
  },
  {
   "cell_type": "code",
   "execution_count": 95,
   "metadata": {},
   "outputs": [
    {
     "data": {
      "text/html": [
       "<div>\n",
       "<style scoped>\n",
       "    .dataframe tbody tr th:only-of-type {\n",
       "        vertical-align: middle;\n",
       "    }\n",
       "\n",
       "    .dataframe tbody tr th {\n",
       "        vertical-align: top;\n",
       "    }\n",
       "\n",
       "    .dataframe thead th {\n",
       "        text-align: right;\n",
       "    }\n",
       "</style>\n",
       "<table border=\"1\" class=\"dataframe\">\n",
       "  <thead>\n",
       "    <tr style=\"text-align: right;\">\n",
       "      <th></th>\n",
       "      <th>Job Title</th>\n",
       "      <th>Average Additional Salary</th>\n",
       "    </tr>\n",
       "  </thead>\n",
       "  <tbody>\n",
       "    <tr>\n",
       "      <th>0</th>\n",
       "      <td>Fire</td>\n",
       "      <td>75106</td>\n",
       "    </tr>\n",
       "    <tr>\n",
       "      <th>1</th>\n",
       "      <td>Sheriff</td>\n",
       "      <td>44375</td>\n",
       "    </tr>\n",
       "    <tr>\n",
       "      <th>2</th>\n",
       "      <td>Police</td>\n",
       "      <td>42953</td>\n",
       "    </tr>\n",
       "    <tr>\n",
       "      <th>3</th>\n",
       "      <td>Mechanic</td>\n",
       "      <td>42240</td>\n",
       "    </tr>\n",
       "    <tr>\n",
       "      <th>4</th>\n",
       "      <td>Anesthetist</td>\n",
       "      <td>40519</td>\n",
       "    </tr>\n",
       "    <tr>\n",
       "      <th>5</th>\n",
       "      <td>Medic</td>\n",
       "      <td>36400</td>\n",
       "    </tr>\n",
       "    <tr>\n",
       "      <th>6</th>\n",
       "      <td>Attorney</td>\n",
       "      <td>31297</td>\n",
       "    </tr>\n",
       "    <tr>\n",
       "      <th>7</th>\n",
       "      <td>Engineer</td>\n",
       "      <td>29180</td>\n",
       "    </tr>\n",
       "    <tr>\n",
       "      <th>8</th>\n",
       "      <td>Physician</td>\n",
       "      <td>27046</td>\n",
       "    </tr>\n",
       "    <tr>\n",
       "      <th>9</th>\n",
       "      <td>Nurse</td>\n",
       "      <td>23172</td>\n",
       "    </tr>\n",
       "    <tr>\n",
       "      <th>10</th>\n",
       "      <td>Technician</td>\n",
       "      <td>19615</td>\n",
       "    </tr>\n",
       "  </tbody>\n",
       "</table>\n",
       "</div>"
      ],
      "text/plain": [
       "      Job Title Average Additional Salary\n",
       "0          Fire                     75106\n",
       "1       Sheriff                     44375\n",
       "2        Police                     42953\n",
       "3      Mechanic                     42240\n",
       "4   Anesthetist                     40519\n",
       "5         Medic                     36400\n",
       "6      Attorney                     31297\n",
       "7      Engineer                     29180\n",
       "8     Physician                     27046\n",
       "9         Nurse                     23172\n",
       "10   Technician                     19615"
      ]
     },
     "execution_count": 95,
     "metadata": {},
     "output_type": "execute_result"
    }
   ],
   "source": [
    "average_additional = execute_query('SELECT JobTitle, ROUND(AVG(OvertimePay + OtherPay + Benefits), 0) as average_additional FROM fixed_jobs_table GROUP BY JobTitle ORDER BY average_additional DESC;')\n",
    "\n",
    "average_additional_df = convert_to_df(average_additional, ['Job Title', 'Average Additional Salary'])\n",
    "\n",
    "average_additional_df"
   ]
  },
  {
   "cell_type": "code",
   "execution_count": 96,
   "metadata": {},
   "outputs": [
    {
     "data": {
      "image/png": "[encoded data removed]",
      "text/plain": [
       "<Figure size 1000x600 with 1 Axes>"
      ]
     },
     "metadata": {},
     "output_type": "display_data"
    }
   ],
   "source": [
    "# Create bars\n",
    "height = average_additional_df['Average Additional Salary']\n",
    "bars = average_additional_df['Job Title']\n",
    "y_pos = np.arange(len(bars))\n",
    "plt.bar(y_pos, height, color='#FFC9DE', width=width)\n",
    "\n",
    "# Create title\n",
    "plt.title(\"Average Additional Salary By Occupation\")\n",
    "\n",
    "# Create names on the x-axis\n",
    "plt.xticks(y_pos, bars)\n",
    "\n",
    "# Add labels\n",
    "addlabels(y_pos, height)\n",
    "\n",
    "# Add axis labels\n",
    "plt.xlabel(\"Occupation\")\n",
    "plt.ylabel(\"Average Additional Salary\")\n",
    "\n",
    "# Present plot\n",
    "plt.rcParams[\"figure.figsize\"] = (10,6)\n",
    "plt.show()"
   ]
  },
  {
   "cell_type": "markdown",
   "metadata": {},
   "source": [
    "##### Observations:\n",
    "\n",
    "- The top 3 additional pay earners appear to be government sectory employees from law enforcement and the fire department"
   ]
  },
  {
   "cell_type": "markdown",
   "metadata": {},
   "source": [
    "##### Query for just the additional benefits received across occupations"
   ]
  },
  {
   "cell_type": "code",
   "execution_count": 97,
   "metadata": {},
   "outputs": [
    {
     "data": {
      "text/html": [
       "<div>\n",
       "<style scoped>\n",
       "    .dataframe tbody tr th:only-of-type {\n",
       "        vertical-align: middle;\n",
       "    }\n",
       "\n",
       "    .dataframe tbody tr th {\n",
       "        vertical-align: top;\n",
       "    }\n",
       "\n",
       "    .dataframe thead th {\n",
       "        text-align: right;\n",
       "    }\n",
       "</style>\n",
       "<table border=\"1\" class=\"dataframe\">\n",
       "  <thead>\n",
       "    <tr style=\"text-align: right;\">\n",
       "      <th></th>\n",
       "      <th>Job Title</th>\n",
       "      <th>Average Benefits</th>\n",
       "    </tr>\n",
       "  </thead>\n",
       "  <tbody>\n",
       "    <tr>\n",
       "      <th>0</th>\n",
       "      <td>Anesthetist</td>\n",
       "      <td>30518</td>\n",
       "    </tr>\n",
       "    <tr>\n",
       "      <th>1</th>\n",
       "      <td>Fire</td>\n",
       "      <td>29727</td>\n",
       "    </tr>\n",
       "    <tr>\n",
       "      <th>2</th>\n",
       "      <td>Attorney</td>\n",
       "      <td>28768</td>\n",
       "    </tr>\n",
       "    <tr>\n",
       "      <th>3</th>\n",
       "      <td>Sheriff</td>\n",
       "      <td>24108</td>\n",
       "    </tr>\n",
       "    <tr>\n",
       "      <th>4</th>\n",
       "      <td>Engineer</td>\n",
       "      <td>22538</td>\n",
       "    </tr>\n",
       "    <tr>\n",
       "      <th>5</th>\n",
       "      <td>Police</td>\n",
       "      <td>21722</td>\n",
       "    </tr>\n",
       "    <tr>\n",
       "      <th>6</th>\n",
       "      <td>Physician</td>\n",
       "      <td>21101</td>\n",
       "    </tr>\n",
       "    <tr>\n",
       "      <th>7</th>\n",
       "      <td>Medic</td>\n",
       "      <td>21057</td>\n",
       "    </tr>\n",
       "    <tr>\n",
       "      <th>8</th>\n",
       "      <td>Mechanic</td>\n",
       "      <td>17423</td>\n",
       "    </tr>\n",
       "    <tr>\n",
       "      <th>9</th>\n",
       "      <td>Nurse</td>\n",
       "      <td>15431</td>\n",
       "    </tr>\n",
       "    <tr>\n",
       "      <th>10</th>\n",
       "      <td>Technician</td>\n",
       "      <td>14119</td>\n",
       "    </tr>\n",
       "  </tbody>\n",
       "</table>\n",
       "</div>"
      ],
      "text/plain": [
       "      Job Title Average Benefits\n",
       "0   Anesthetist            30518\n",
       "1          Fire            29727\n",
       "2      Attorney            28768\n",
       "3       Sheriff            24108\n",
       "4      Engineer            22538\n",
       "5        Police            21722\n",
       "6     Physician            21101\n",
       "7         Medic            21057\n",
       "8      Mechanic            17423\n",
       "9         Nurse            15431\n",
       "10   Technician            14119"
      ]
     },
     "execution_count": 97,
     "metadata": {},
     "output_type": "execute_result"
    }
   ],
   "source": [
    "average_benefits = execute_query('SELECT JobTitle, ROUND(AVG(Benefits), 0) as average_benefits FROM fixed_jobs_table GROUP BY JobTitle ORDER BY average_benefits DESC;')\n",
    "\n",
    "average_benefits_df = convert_to_df(average_benefits, ['Job Title', 'Average Benefits'])\n",
    "\n",
    "average_benefits_df"
   ]
  },
  {
   "cell_type": "code",
   "execution_count": 98,
   "metadata": {},
   "outputs": [
    {
     "data": {
      "image/png": "[encoded data removed]",
      "text/plain": [
       "<Figure size 1000x600 with 1 Axes>"
      ]
     },
     "metadata": {},
     "output_type": "display_data"
    }
   ],
   "source": [
    "# Create bars\n",
    "height = average_benefits_df['Average Benefits']\n",
    "bars = average_benefits_df['Job Title']\n",
    "y_pos = np.arange(len(bars))\n",
    "plt.bar(y_pos, height, color='#FFC9DE', width=width)\n",
    "\n",
    "# Create title\n",
    "plt.title(\"Average Benefits By Occupation\")\n",
    "\n",
    "# Create names on the x-axis\n",
    "plt.xticks(y_pos, bars)\n",
    "\n",
    "# Add labels\n",
    "addlabels(y_pos, height)\n",
    "\n",
    "# Add axis labels\n",
    "plt.xlabel(\"Occupation\")\n",
    "plt.ylabel(\"Average Benefits\")\n",
    "\n",
    "# Present plot\n",
    "plt.rcParams[\"figure.figsize\"] = (10,6)\n",
    "plt.show()"
   ]
  },
  {
   "cell_type": "markdown",
   "metadata": {},
   "source": [
    "##### Observations:\n",
    "\n",
    "- Anesthetists appear to have receieved the highest benefits\n",
    "- They, however, were not the highest earners for overall additional pay\n",
    "- This suggests that they received much lower overtime pay and other pay,\n",
    "especially compared to occupations in the fire department"
   ]
  },
  {
   "cell_type": "markdown",
   "metadata": {},
   "source": [
    "##### Query for average overall pay across occupations"
   ]
  },
  {
   "cell_type": "code",
   "execution_count": 99,
   "metadata": {},
   "outputs": [
    {
     "data": {
      "text/html": [
       "<div>\n",
       "<style scoped>\n",
       "    .dataframe tbody tr th:only-of-type {\n",
       "        vertical-align: middle;\n",
       "    }\n",
       "\n",
       "    .dataframe tbody tr th {\n",
       "        vertical-align: top;\n",
       "    }\n",
       "\n",
       "    .dataframe thead th {\n",
       "        text-align: right;\n",
       "    }\n",
       "</style>\n",
       "<table border=\"1\" class=\"dataframe\">\n",
       "  <thead>\n",
       "    <tr style=\"text-align: right;\">\n",
       "      <th></th>\n",
       "      <th>Job Title</th>\n",
       "      <th>Average Total Salary</th>\n",
       "    </tr>\n",
       "  </thead>\n",
       "  <tbody>\n",
       "    <tr>\n",
       "      <th>0</th>\n",
       "      <td>Fire</td>\n",
       "      <td>157055</td>\n",
       "    </tr>\n",
       "    <tr>\n",
       "      <th>1</th>\n",
       "      <td>Anesthetist</td>\n",
       "      <td>144986</td>\n",
       "    </tr>\n",
       "    <tr>\n",
       "      <th>2</th>\n",
       "      <td>Attorney</td>\n",
       "      <td>135917</td>\n",
       "    </tr>\n",
       "    <tr>\n",
       "      <th>3</th>\n",
       "      <td>Police</td>\n",
       "      <td>121009</td>\n",
       "    </tr>\n",
       "    <tr>\n",
       "      <th>4</th>\n",
       "      <td>Sheriff</td>\n",
       "      <td>103703</td>\n",
       "    </tr>\n",
       "    <tr>\n",
       "      <th>5</th>\n",
       "      <td>Physician</td>\n",
       "      <td>101919</td>\n",
       "    </tr>\n",
       "    <tr>\n",
       "      <th>6</th>\n",
       "      <td>Engineer</td>\n",
       "      <td>99354</td>\n",
       "    </tr>\n",
       "    <tr>\n",
       "      <th>7</th>\n",
       "      <td>Mechanic</td>\n",
       "      <td>96706</td>\n",
       "    </tr>\n",
       "    <tr>\n",
       "      <th>8</th>\n",
       "      <td>Medic</td>\n",
       "      <td>91455</td>\n",
       "    </tr>\n",
       "    <tr>\n",
       "      <th>9</th>\n",
       "      <td>Nurse</td>\n",
       "      <td>74288</td>\n",
       "    </tr>\n",
       "    <tr>\n",
       "      <th>10</th>\n",
       "      <td>Technician</td>\n",
       "      <td>61130</td>\n",
       "    </tr>\n",
       "  </tbody>\n",
       "</table>\n",
       "</div>"
      ],
      "text/plain": [
       "      Job Title Average Total Salary\n",
       "0          Fire               157055\n",
       "1   Anesthetist               144986\n",
       "2      Attorney               135917\n",
       "3        Police               121009\n",
       "4       Sheriff               103703\n",
       "5     Physician               101919\n",
       "6      Engineer                99354\n",
       "7      Mechanic                96706\n",
       "8         Medic                91455\n",
       "9         Nurse                74288\n",
       "10   Technician                61130"
      ]
     },
     "execution_count": 99,
     "metadata": {},
     "output_type": "execute_result"
    }
   ],
   "source": [
    "average_totalpay = execute_query('SELECT JobTitle, ROUND(AVG(TotalPay), 0) as average_totalpay FROM fixed_jobs_table GROUP BY JobTitle ORDER BY average_totalpay DESC;')\n",
    "\n",
    "average_totalpay_df = convert_to_df(average_totalpay, ['Job Title', 'Average Total Salary'])\n",
    "\n",
    "average_totalpay_df"
   ]
  },
  {
   "cell_type": "code",
   "execution_count": 100,
   "metadata": {},
   "outputs": [
    {
     "data": {
      "image/png": "[encoded data removed]",
      "text/plain": [
       "<Figure size 1000x600 with 1 Axes>"
      ]
     },
     "metadata": {},
     "output_type": "display_data"
    }
   ],
   "source": [
    "# Create bars\n",
    "height = average_totalpay_df['Average Total Salary']\n",
    "bars = average_totalpay_df['Job Title']\n",
    "y_pos = np.arange(len(bars))\n",
    "plt.bar(y_pos, height, color='#FFC9DE', width=width)\n",
    "\n",
    "# Create title\n",
    "plt.title(\"Average Total Salary By Occupation\")\n",
    "\n",
    "# Create names on the x-axis\n",
    "plt.xticks(y_pos, bars)\n",
    "\n",
    "# Add labels\n",
    "addlabels(y_pos, height)\n",
    "\n",
    "# Add axis labels\n",
    "plt.xlabel(\"Occupation\")\n",
    "plt.ylabel(\"Average Total Salary\")\n",
    "\n",
    "# Present plot\n",
    "plt.rcParams[\"figure.figsize\"] = (10,6)\n",
    "plt.show()"
   ]
  },
  {
   "cell_type": "markdown",
   "metadata": {},
   "source": [
    "##### Observations\n",
    "\n",
    "- Although with lower base salary, the fire department sees\n",
    "the highest average overall salary, even higher than anesthetists\n",
    "- This is due to the high overtime pay and other pay in this occupation"
   ]
  },
  {
   "cell_type": "markdown",
   "metadata": {},
   "source": [
    "##### Query for the ratio of additional salary to total salary"
   ]
  },
  {
   "cell_type": "code",
   "execution_count": 101,
   "metadata": {},
   "outputs": [
    {
     "data": {
      "text/html": [
       "<div>\n",
       "<style scoped>\n",
       "    .dataframe tbody tr th:only-of-type {\n",
       "        vertical-align: middle;\n",
       "    }\n",
       "\n",
       "    .dataframe tbody tr th {\n",
       "        vertical-align: top;\n",
       "    }\n",
       "\n",
       "    .dataframe thead th {\n",
       "        text-align: right;\n",
       "    }\n",
       "</style>\n",
       "<table border=\"1\" class=\"dataframe\">\n",
       "  <thead>\n",
       "    <tr style=\"text-align: right;\">\n",
       "      <th></th>\n",
       "      <th>Job Title</th>\n",
       "      <th>Percent of Additional Salary to Total Salary</th>\n",
       "    </tr>\n",
       "  </thead>\n",
       "  <tbody>\n",
       "    <tr>\n",
       "      <th>0</th>\n",
       "      <td>Sheriff</td>\n",
       "      <td>59.19</td>\n",
       "    </tr>\n",
       "    <tr>\n",
       "      <th>1</th>\n",
       "      <td>Fire</td>\n",
       "      <td>47.19</td>\n",
       "    </tr>\n",
       "    <tr>\n",
       "      <th>2</th>\n",
       "      <td>Mechanic</td>\n",
       "      <td>44.01</td>\n",
       "    </tr>\n",
       "    <tr>\n",
       "      <th>3</th>\n",
       "      <td>Technician</td>\n",
       "      <td>39.52</td>\n",
       "    </tr>\n",
       "    <tr>\n",
       "      <th>4</th>\n",
       "      <td>Police</td>\n",
       "      <td>37.25</td>\n",
       "    </tr>\n",
       "    <tr>\n",
       "      <th>5</th>\n",
       "      <td>Medic</td>\n",
       "      <td>36.66</td>\n",
       "    </tr>\n",
       "    <tr>\n",
       "      <th>6</th>\n",
       "      <td>Nurse</td>\n",
       "      <td>29.69</td>\n",
       "    </tr>\n",
       "    <tr>\n",
       "      <th>7</th>\n",
       "      <td>Engineer</td>\n",
       "      <td>29.29</td>\n",
       "    </tr>\n",
       "    <tr>\n",
       "      <th>8</th>\n",
       "      <td>Physician</td>\n",
       "      <td>25.26</td>\n",
       "    </tr>\n",
       "    <tr>\n",
       "      <th>9</th>\n",
       "      <td>Anesthetist</td>\n",
       "      <td>23.82</td>\n",
       "    </tr>\n",
       "    <tr>\n",
       "      <th>10</th>\n",
       "      <td>Attorney</td>\n",
       "      <td>23.12</td>\n",
       "    </tr>\n",
       "  </tbody>\n",
       "</table>\n",
       "</div>"
      ],
      "text/plain": [
       "      Job Title Percent of Additional Salary to Total Salary\n",
       "0       Sheriff                                        59.19\n",
       "1          Fire                                        47.19\n",
       "2      Mechanic                                        44.01\n",
       "3    Technician                                        39.52\n",
       "4        Police                                        37.25\n",
       "5         Medic                                        36.66\n",
       "6         Nurse                                        29.69\n",
       "7      Engineer                                        29.29\n",
       "8     Physician                                        25.26\n",
       "9   Anesthetist                                        23.82\n",
       "10     Attorney                                        23.12"
      ]
     },
     "execution_count": 101,
     "metadata": {},
     "output_type": "execute_result"
    }
   ],
   "source": [
    "average_percent_additional = execute_query('SELECT JobTitle, ROUND(AVG((OtherPay + OvertimePay + Benefits)/TotalPay * 100), 2) as average_additional_pay FROM fixed_jobs_table GROUP BY JobTitle ORDER BY average_additional_pay DESC;')\n",
    "\n",
    "average_percent_additional_df = convert_to_df(average_percent_additional, ['Job Title', 'Percent of Additional Salary to Total Salary'])\n",
    "\n",
    "average_percent_additional_df"
   ]
  },
  {
   "cell_type": "code",
   "execution_count": 102,
   "metadata": {},
   "outputs": [
    {
     "data": {
      "image/png": "[encoded data removed]",
      "text/plain": [
       "<Figure size 1000x600 with 1 Axes>"
      ]
     },
     "metadata": {},
     "output_type": "display_data"
    }
   ],
   "source": [
    "# Create bars\n",
    "height = average_percent_additional_df['Percent of Additional Salary to Total Salary']\n",
    "bars = average_percent_additional_df['Job Title']\n",
    "y_pos = np.arange(len(bars))\n",
    "plt.bar(y_pos, height, color='#FFC9DE', width=width)\n",
    "\n",
    "# Create title\n",
    "plt.title(\"Percent of Additional Salary to Total Salary\")\n",
    "\n",
    "# Create names on the x-axis\n",
    "plt.xticks(y_pos, bars)\n",
    "\n",
    "# Add labels\n",
    "addlabels(y_pos, height)\n",
    "\n",
    "# Add axis labels\n",
    "plt.xlabel(\"Occupation\")\n",
    "plt.ylabel(\"Percent of Additional Salary to Total Salary\")\n",
    "\n",
    "# Present plot\n",
    "plt.rcParams[\"figure.figsize\"] = (10,6)\n",
    "plt.show()"
   ]
  },
  {
   "cell_type": "markdown",
   "metadata": {},
   "source": [
    "##### Observations\n",
    "\n",
    "- As expected, anesthetists' and attorneys' total salaries consists mostly of base salary\n",
    "and less of additional pay\n",
    "- As for Sheriffs and employees in the fire department, additional pay accounts for about half\n",
    "of their total salaries"
   ]
  },
  {
   "cell_type": "markdown",
   "metadata": {},
   "source": [
    "##### Query for standard deviations"
   ]
  },
  {
   "cell_type": "code",
   "execution_count": 103,
   "metadata": {},
   "outputs": [],
   "source": [
    "base_stdev = execute_query('SELECT JobTitle, ROUND(STDDEV(BasePay), 2) as base_stdev FROM fixed_jobs_table GROUP BY JobTitle ORDER BY JobTitle;')\n",
    "additional_stdev = execute_query('SELECT JobTitle, ROUND(STDDEV(OtherPay + OvertimePay), 2) as additional_stdev FROM fixed_jobs_table GROUP BY JobTitle ORDER BY JobTitle;')\n",
    "job_labels = execute_query('SELECT JobTitle FROM fixed_jobs_table GROUP BY JobTitle ORDER BY JobTitle;')\n",
    "\n",
    "base_stdev_df = convert_to_df(base_stdev, ['Job Title', 'Standard Deviation of Base Salary'])\n",
    "additional_stdev_df = convert_to_df(additional_stdev, ['Job Title', 'Standard Deviation of Additional Salary'])\n",
    "job_labels_df = convert_to_df(job_labels, ['Job Title'])"
   ]
  },
  {
   "cell_type": "code",
   "execution_count": 104,
   "metadata": {},
   "outputs": [
    {
     "data": {
      "text/html": [
       "<div>\n",
       "<style scoped>\n",
       "    .dataframe tbody tr th:only-of-type {\n",
       "        vertical-align: middle;\n",
       "    }\n",
       "\n",
       "    .dataframe tbody tr th {\n",
       "        vertical-align: top;\n",
       "    }\n",
       "\n",
       "    .dataframe thead th {\n",
       "        text-align: right;\n",
       "    }\n",
       "</style>\n",
       "<table border=\"1\" class=\"dataframe\">\n",
       "  <thead>\n",
       "    <tr style=\"text-align: right;\">\n",
       "      <th></th>\n",
       "      <th>Job Title</th>\n",
       "      <th>Standard Deviation of Base Salary</th>\n",
       "    </tr>\n",
       "  </thead>\n",
       "  <tbody>\n",
       "    <tr>\n",
       "      <th>0</th>\n",
       "      <td>Anesthetist</td>\n",
       "      <td>82763.23</td>\n",
       "    </tr>\n",
       "    <tr>\n",
       "      <th>1</th>\n",
       "      <td>Attorney</td>\n",
       "      <td>50132.87</td>\n",
       "    </tr>\n",
       "    <tr>\n",
       "      <th>2</th>\n",
       "      <td>Engineer</td>\n",
       "      <td>35665.03</td>\n",
       "    </tr>\n",
       "    <tr>\n",
       "      <th>3</th>\n",
       "      <td>Fire</td>\n",
       "      <td>32544.54</td>\n",
       "    </tr>\n",
       "    <tr>\n",
       "      <th>4</th>\n",
       "      <td>Mechanic</td>\n",
       "      <td>18360.68</td>\n",
       "    </tr>\n",
       "    <tr>\n",
       "      <th>5</th>\n",
       "      <td>Medic</td>\n",
       "      <td>38577.02</td>\n",
       "    </tr>\n",
       "    <tr>\n",
       "      <th>6</th>\n",
       "      <td>Nurse</td>\n",
       "      <td>50097.64</td>\n",
       "    </tr>\n",
       "    <tr>\n",
       "      <th>7</th>\n",
       "      <td>Physician</td>\n",
       "      <td>68717.42</td>\n",
       "    </tr>\n",
       "    <tr>\n",
       "      <th>8</th>\n",
       "      <td>Police</td>\n",
       "      <td>32583.09</td>\n",
       "    </tr>\n",
       "    <tr>\n",
       "      <th>9</th>\n",
       "      <td>Sheriff</td>\n",
       "      <td>27575.13</td>\n",
       "    </tr>\n",
       "    <tr>\n",
       "      <th>10</th>\n",
       "      <td>Technician</td>\n",
       "      <td>28504.19</td>\n",
       "    </tr>\n",
       "  </tbody>\n",
       "</table>\n",
       "</div>"
      ],
      "text/plain": [
       "      Job Title  Standard Deviation of Base Salary\n",
       "0   Anesthetist                           82763.23\n",
       "1      Attorney                           50132.87\n",
       "2      Engineer                           35665.03\n",
       "3          Fire                           32544.54\n",
       "4      Mechanic                           18360.68\n",
       "5         Medic                           38577.02\n",
       "6         Nurse                           50097.64\n",
       "7     Physician                           68717.42\n",
       "8        Police                           32583.09\n",
       "9       Sheriff                           27575.13\n",
       "10   Technician                           28504.19"
      ]
     },
     "execution_count": 104,
     "metadata": {},
     "output_type": "execute_result"
    }
   ],
   "source": [
    "base_stdev_df"
   ]
  },
  {
   "cell_type": "code",
   "execution_count": 105,
   "metadata": {},
   "outputs": [
    {
     "data": {
      "text/html": [
       "<div>\n",
       "<style scoped>\n",
       "    .dataframe tbody tr th:only-of-type {\n",
       "        vertical-align: middle;\n",
       "    }\n",
       "\n",
       "    .dataframe tbody tr th {\n",
       "        vertical-align: top;\n",
       "    }\n",
       "\n",
       "    .dataframe thead th {\n",
       "        text-align: right;\n",
       "    }\n",
       "</style>\n",
       "<table border=\"1\" class=\"dataframe\">\n",
       "  <thead>\n",
       "    <tr style=\"text-align: right;\">\n",
       "      <th></th>\n",
       "      <th>Job Title</th>\n",
       "      <th>Standard Deviation of Additional Salary</th>\n",
       "    </tr>\n",
       "  </thead>\n",
       "  <tbody>\n",
       "    <tr>\n",
       "      <th>0</th>\n",
       "      <td>Anesthetist</td>\n",
       "      <td>7318.96</td>\n",
       "    </tr>\n",
       "    <tr>\n",
       "      <th>1</th>\n",
       "      <td>Attorney</td>\n",
       "      <td>6537.10</td>\n",
       "    </tr>\n",
       "    <tr>\n",
       "      <th>2</th>\n",
       "      <td>Engineer</td>\n",
       "      <td>10268.03</td>\n",
       "    </tr>\n",
       "    <tr>\n",
       "      <th>3</th>\n",
       "      <td>Fire</td>\n",
       "      <td>29330.25</td>\n",
       "    </tr>\n",
       "    <tr>\n",
       "      <th>4</th>\n",
       "      <td>Mechanic</td>\n",
       "      <td>24917.07</td>\n",
       "    </tr>\n",
       "    <tr>\n",
       "      <th>5</th>\n",
       "      <td>Medic</td>\n",
       "      <td>23548.85</td>\n",
       "    </tr>\n",
       "    <tr>\n",
       "      <th>6</th>\n",
       "      <td>Nurse</td>\n",
       "      <td>9455.41</td>\n",
       "    </tr>\n",
       "    <tr>\n",
       "      <th>7</th>\n",
       "      <td>Physician</td>\n",
       "      <td>11427.99</td>\n",
       "    </tr>\n",
       "    <tr>\n",
       "      <th>8</th>\n",
       "      <td>Police</td>\n",
       "      <td>20714.77</td>\n",
       "    </tr>\n",
       "    <tr>\n",
       "      <th>9</th>\n",
       "      <td>Sheriff</td>\n",
       "      <td>18617.23</td>\n",
       "    </tr>\n",
       "    <tr>\n",
       "      <th>10</th>\n",
       "      <td>Technician</td>\n",
       "      <td>10503.64</td>\n",
       "    </tr>\n",
       "  </tbody>\n",
       "</table>\n",
       "</div>"
      ],
      "text/plain": [
       "      Job Title  Standard Deviation of Additional Salary\n",
       "0   Anesthetist                                  7318.96\n",
       "1      Attorney                                  6537.10\n",
       "2      Engineer                                 10268.03\n",
       "3          Fire                                 29330.25\n",
       "4      Mechanic                                 24917.07\n",
       "5         Medic                                 23548.85\n",
       "6         Nurse                                  9455.41\n",
       "7     Physician                                 11427.99\n",
       "8        Police                                 20714.77\n",
       "9       Sheriff                                 18617.23\n",
       "10   Technician                                 10503.64"
      ]
     },
     "execution_count": 105,
     "metadata": {},
     "output_type": "execute_result"
    }
   ],
   "source": [
    "additional_stdev_df"
   ]
  },
  {
   "cell_type": "code",
   "execution_count": 106,
   "metadata": {},
   "outputs": [
    {
     "data": {
      "text/html": [
       "<div>\n",
       "<style scoped>\n",
       "    .dataframe tbody tr th:only-of-type {\n",
       "        vertical-align: middle;\n",
       "    }\n",
       "\n",
       "    .dataframe tbody tr th {\n",
       "        vertical-align: top;\n",
       "    }\n",
       "\n",
       "    .dataframe thead th {\n",
       "        text-align: right;\n",
       "    }\n",
       "</style>\n",
       "<table border=\"1\" class=\"dataframe\">\n",
       "  <thead>\n",
       "    <tr style=\"text-align: right;\">\n",
       "      <th></th>\n",
       "      <th>Job Title</th>\n",
       "    </tr>\n",
       "  </thead>\n",
       "  <tbody>\n",
       "    <tr>\n",
       "      <th>0</th>\n",
       "      <td>Anesthetist</td>\n",
       "    </tr>\n",
       "    <tr>\n",
       "      <th>1</th>\n",
       "      <td>Attorney</td>\n",
       "    </tr>\n",
       "    <tr>\n",
       "      <th>2</th>\n",
       "      <td>Engineer</td>\n",
       "    </tr>\n",
       "    <tr>\n",
       "      <th>3</th>\n",
       "      <td>Fire</td>\n",
       "    </tr>\n",
       "    <tr>\n",
       "      <th>4</th>\n",
       "      <td>Mechanic</td>\n",
       "    </tr>\n",
       "    <tr>\n",
       "      <th>5</th>\n",
       "      <td>Medic</td>\n",
       "    </tr>\n",
       "    <tr>\n",
       "      <th>6</th>\n",
       "      <td>Nurse</td>\n",
       "    </tr>\n",
       "    <tr>\n",
       "      <th>7</th>\n",
       "      <td>Physician</td>\n",
       "    </tr>\n",
       "    <tr>\n",
       "      <th>8</th>\n",
       "      <td>Police</td>\n",
       "    </tr>\n",
       "    <tr>\n",
       "      <th>9</th>\n",
       "      <td>Sheriff</td>\n",
       "    </tr>\n",
       "    <tr>\n",
       "      <th>10</th>\n",
       "      <td>Technician</td>\n",
       "    </tr>\n",
       "  </tbody>\n",
       "</table>\n",
       "</div>"
      ],
      "text/plain": [
       "      Job Title\n",
       "0   Anesthetist\n",
       "1      Attorney\n",
       "2      Engineer\n",
       "3          Fire\n",
       "4      Mechanic\n",
       "5         Medic\n",
       "6         Nurse\n",
       "7     Physician\n",
       "8        Police\n",
       "9       Sheriff\n",
       "10   Technician"
      ]
     },
     "execution_count": 106,
     "metadata": {},
     "output_type": "execute_result"
    }
   ],
   "source": [
    "job_labels_df"
   ]
  },
  {
   "cell_type": "code",
   "execution_count": 107,
   "metadata": {},
   "outputs": [
    {
     "data": {
      "image/png": "[encoded data removed]",
      "text/plain": [
       "<Figure size 1000x600 with 1 Axes>"
      ]
     },
     "metadata": {},
     "output_type": "display_data"
    }
   ],
   "source": [
    "width = 0.35       # the width of the bars: can also be len(x) sequence\n",
    "\n",
    "fig, ax = plt.subplots()\n",
    "\n",
    "ax.bar(job_labels_df['Job Title'], average_base_df.sort_values(by=['Job Title'])['Average Base Salary'].values, width=width, yerr=base_stdev_df['Standard Deviation of Base Salary'], label='Base Salary', color='#85E3FF')\n",
    "ax.bar(job_labels_df['Job Title'], average_additional_df.sort_values(by=['Job Title'])['Average Additional Salary'].values, width=width, yerr=additional_stdev_df['Standard Deviation of Additional Salary'].values, bottom=average_base_df.sort_values(by=['Job Title'])['Average Base Salary'], label='Additional Salary', color='#FFC9DE')\n",
    "\n",
    "ax.set_ylabel('Scores')\n",
    "ax.set_title('Scores by group and gender')\n",
    "ax.legend()\n",
    "\n",
    "plt.show()"
   ]
  },
  {
   "cell_type": "markdown",
   "metadata": {},
   "source": [
    "##### Observations\n",
    "\n",
    "- Overall, although Anesthetists and attorneys make the highest base salary,\n",
    "as well as benefits, empoyees in the fire department received the highest overall pay \n",
    "due to their high overtime and other pays"
   ]
  },
  {
   "cell_type": "markdown",
   "metadata": {},
   "source": [
    "----------------------------------------"
   ]
  }
 ],
 "metadata": {
  "kernelspec": {
   "display_name": "Python 3.10.7 64-bit (microsoft store)",
   "language": "python",
   "name": "python3"
  },
  "language_info": {
   "codemirror_mode": {
    "name": "ipython",
    "version": 3
   },
   "file_extension": ".py",
   "mimetype": "text/x-python",
   "name": "python",
   "nbconvert_exporter": "python",
   "pygments_lexer": "ipython3",
   "version": "3.10.7"
  },
  "orig_nbformat": 4,
  "vscode": {
   "interpreter": {
    "hash": "3b7e9cb8e453d6cda0fe8c8dd13f891a1f09162f0e7c66ffeae7751a7aecf00d"
   }
  }
 },
 "nbformat": 4,
 "nbformat_minor": 2
}
